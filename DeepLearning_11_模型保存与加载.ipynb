{
 "cells": [
  {
   "cell_type": "markdown",
   "metadata": {},
   "source": [
    "# 对于大型的网络而言。可能有时候运行的时间非常长，如果中途发生一些突发事件导致运行中止，这个时候恢复数据是非常重要的。"
   ]
  },
  {
   "cell_type": "markdown",
   "metadata": {},
   "source": [
    "##  keras里面有三种常用的数据保存与加载的方法。"
   ]
  },
  {
   "cell_type": "markdown",
   "metadata": {},
   "source": [
    "## 1.只保留训练的权值和偏置\n",
    "## 2.保留整个模型的数据\n",
    "## 3.保留整个模型的框架交付可以用其它的语言查看对接编辑"
   ]
  },
  {
   "cell_type": "code",
   "execution_count": null,
   "metadata": {},
   "outputs": [],
   "source": [
    "# 保存权值\n",
    "model.save_weights('./保存路径')\n",
    "\n",
    "# 恢复模型，这使需要你自己再创建一个一模一样的模型\n",
    "# 把保存的权值偏置加载进新的模型，得出额数据会稍有偏差，但基本一致\n",
    "model = create_model()\n",
    "model.load_weights('./保存路径')"
   ]
  },
  {
   "cell_type": "code",
   "execution_count": null,
   "metadata": {},
   "outputs": [],
   "source": [
    "# 保存整个模型\n",
    "network.save('model.h5')\n",
    "# 将整个网络删除\n",
    "del network\n",
    "# 直接恢复整个model\n",
    " network = tf.keras.model.load_model('model.h5')"
   ]
  },
  {
   "cell_type": "code",
   "execution_count": null,
   "metadata": {},
   "outputs": [],
   "source": [
    "# 保存整个框架\n",
    "tf.saved_model.save(m,'路径')\n",
    "#直接恢复整个框架\n",
    "imported = tf.saved_model.load(path)\n",
    "f = imported.signatures['serving_default']\n"
   ]
  }
 ],
 "metadata": {
  "kernelspec": {
   "display_name": "Python 3",
   "language": "python",
   "name": "python3"
  },
  "language_info": {
   "codemirror_mode": {
    "name": "ipython",
    "version": 3
   },
   "file_extension": ".py",
   "mimetype": "text/x-python",
   "name": "python",
   "nbconvert_exporter": "python",
   "pygments_lexer": "ipython3",
   "version": "3.7.3"
  }
 },
 "nbformat": 4,
 "nbformat_minor": 2
}
