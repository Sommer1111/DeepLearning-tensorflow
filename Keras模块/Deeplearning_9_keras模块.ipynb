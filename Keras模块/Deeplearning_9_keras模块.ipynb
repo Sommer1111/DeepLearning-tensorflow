{
 "cells": [
  {
   "cell_type": "markdown",
   "metadata": {},
   "source": [
    "# keras模块的函数功能"
   ]
  },
  {
   "cell_type": "code",
   "execution_count": 1,
   "metadata": {},
   "outputs": [],
   "source": [
    "import tensorflow as tf\n",
    "from tensorflow import keras"
   ]
  },
  {
   "cell_type": "markdown",
   "metadata": {},
   "source": [
    "# 1.量表，有关metrics"
   ]
  },
  {
   "cell_type": "code",
   "execution_count": 4,
   "metadata": {},
   "outputs": [],
   "source": [
    "# 1.创建量表\n",
    "acc_meter = keras.metrics.Accuracy() #一步计算预测值与实际值的准确度\n",
    "loss_meter = keras.metrics.Mean()    #计算损失函数"
   ]
  },
  {
   "cell_type": "code",
   "execution_count": null,
   "metadata": {},
   "outputs": [],
   "source": [
    "# 2.给量表喂数据\n",
    "loss_meter.update_state(loss)\n",
    "acc_meter.update_state(y,pred)"
   ]
  },
  {
   "cell_type": "code",
   "execution_count": null,
   "metadata": {},
   "outputs": [],
   "source": [
    "# 3.得到计算的值\n",
    "loss_meter.result().numpy()#result得到的是tensor类型，后面是其转化为numpy类型\n",
    "acc_meter.result().numpy()"
   ]
  },
  {
   "cell_type": "code",
   "execution_count": null,
   "metadata": {},
   "outputs": [],
   "source": [
    "# 4.清空量表缓存的数据，以便接收新的数据\n",
    "loss_meter.reset_states()\n",
    "acc_meter.reset_states()"
   ]
  },
  {
   "cell_type": "markdown",
   "metadata": {},
   "source": [
    "# 2.快捷训练方法，Compile、fit、evaluate、predict"
   ]
  },
  {
   "cell_type": "code",
   "execution_count": null,
   "metadata": {},
   "outputs": [],
   "source": [
    "# 等同于整个训练步骤，用优化器来更新迭代梯度，计算loss，计算预测正确率\n",
    "\n",
    "network.compile(optimizer=optimizers.Adam(lr=0.01),\n",
    "        loss = tf.losses.CategoricalCrossentropy(from_logits=True),\n",
    "        metrics = ['accuracy']\n",
    "        )\n",
    "# d对10个周期的每一个batch进行迭代训练\n",
    "network.fit(db,epochs = 10)\n",
    "\n",
    "#测试\n",
    "# validation_data 指定测试集，validation_freq代表每训练两个周期，进行一次测试\n",
    "network.fit(db,epochs=10,validation_data =ds_val,\n",
    "           validation_freq = 2)\n",
    "\n",
    "# 评价,表示训练完之后，最后进行一次测评，评估神经网络的性能\n",
    "network.evaluate(ds_val)\n",
    "\n",
    "#预测\n",
    "network.predict()"
   ]
  }
 ],
 "metadata": {
  "kernelspec": {
   "display_name": "Python 3",
   "language": "python",
   "name": "python3"
  },
  "language_info": {
   "codemirror_mode": {
    "name": "ipython",
    "version": 3
   },
   "file_extension": ".py",
   "mimetype": "text/x-python",
   "name": "python",
   "nbconvert_exporter": "python",
   "pygments_lexer": "ipython3",
   "version": "3.7.3"
  }
 },
 "nbformat": 4,
 "nbformat_minor": 2
}
